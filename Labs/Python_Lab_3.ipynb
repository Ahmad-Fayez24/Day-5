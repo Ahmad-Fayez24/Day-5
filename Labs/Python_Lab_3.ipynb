{
 "cells": [
  {
   "cell_type": "markdown",
   "metadata": {},
   "source": [
    "# Python_Lab_3\n"
   ]
  },
  {
   "cell_type": "markdown",
   "metadata": {},
   "source": [
    "### Task 1\n",
    "- Write a function named **'create_student_records'** that takes a list of tuples. Each tuple contains a student's name and their scores in three subjects. The function should return a list of dictionaries, where each dictionary represents a student with keys: name, subject1, subject2, subject3. Use list comprehension to create the list of dictionaries."
   ]
  },
  {
   "cell_type": "code",
   "execution_count": 1,
   "metadata": {},
   "outputs": [
    {
     "name": "stdout",
     "output_type": "stream",
     "text": [
      "[{'name': 'Ahmad', 'subject1': 90, 'subject2': 92, 'subject3': 85}, {'name': 'Mohammed', 'subject1': 95, 'subject2': 93, 'subject3': 87}, {'name': 'Ali', 'subject1': 75, 'subject2': 71, 'subject3': 70}]\n"
     ]
    }
   ],
   "source": [
    "def create_student_records(student_tuples):\n",
    "    return [{'name': name, 'subject1': score1, 'subject2': score2, 'subject3': score3}\n",
    "            for name, score1, score2, score3 in student_tuples]\n",
    "students = [\n",
    "    ('Ahmad', 90, 92, 85),\n",
    "    ('Mohammed', 95, 93, 87),\n",
    "    ('Ali', 75, 71, 70)\n",
    "]\n",
    "student_records = create_student_records(students)\n",
    "print(student_records)"
   ]
  },
  {
   "cell_type": "markdown",
   "metadata": {},
   "source": [
    "### Task 2\n",
    "- Write a function named **'filter_and_sort_students'** that takes the list of dictionaries from Question 1 and returns a sorted list of student names who have an average score of 80 or more across all subjects. Sort the names in alphabetical order."
   ]
  },
  {
   "cell_type": "code",
   "execution_count": 2,
   "metadata": {},
   "outputs": [
    {
     "name": "stdout",
     "output_type": "stream",
     "text": [
      "['Ahmad', 'Mohammed']\n"
     ]
    }
   ],
   "source": [
    "def filter_and_sort_students(student_records):\n",
    "    # Filter students with an average score of 80 or more\n",
    "    filtered_students = [student['name'] for student in student_records\n",
    "                         if (student['subject1'] + student['subject2'] + student['subject3']) / 3 >= 80]\n",
    "    # Sort the names alphabetically\n",
    "    return sorted(filtered_students)\n",
    "\n",
    "# Example:\n",
    "student_records = [\n",
    "    {'name': 'Mohammed', 'subject1': 85, 'subject2': 92, 'subject3': 78},\n",
    "    {'name': 'Ahmad', 'subject1': 90, 'subject2': 88, 'subject3': 95},\n",
    "    {'name': 'Ali', 'subject1': 70, 'subject2': 65, 'subject3': 80}\n",
    "]\n",
    "filtered_sorted_students = filter_and_sort_students(student_records)\n",
    "print(filtered_sorted_students)\n"
   ]
  },
  {
   "cell_type": "markdown",
   "metadata": {},
   "source": [
    "### Task 3\n",
    "- Write a function named **'get_product_info'** that prompts the user to enter information about a product. The function should ask for the product name, product price, and product quantity. If the user enters an invalid input (e.g., a non-numeric value for the price or quantity), the function should handle the error and prompt the user to enter the value again. Return a dictionary containing the product information."
   ]
  },
  {
   "cell_type": "code",
   "execution_count": 7,
   "metadata": {},
   "outputs": [
    {
     "name": "stdout",
     "output_type": "stream",
     "text": [
      "Invalid input. Please enter a numeric value for the price.\n",
      "Invalid input. Please enter a numeric value for the price.\n",
      "Invalid input. Please enter a numeric value for the price.\n",
      "Invalid input. Please enter a numeric value for the price.\n",
      "{'name': 'perfume', 'price': 4.0, 'quantity': 3}\n"
     ]
    }
   ],
   "source": [
    "def get_product_info():\n",
    "    # Prompt for product name\n",
    "    product_name = input(\"Enter the product name: \")\n",
    "\n",
    "    # Prompt for product price with error handling\n",
    "    while True:\n",
    "        try:\n",
    "            product_price = float(input(\"Enter the product price: \"))\n",
    "            break  # Exit loop if input is valid\n",
    "        except ValueError:\n",
    "            print(\"Invalid input. Please enter a numeric value for the price.\")\n",
    "\n",
    "    # Prompt for product quantity with error handling\n",
    "    while True:\n",
    "        try:\n",
    "            product_quantity = int(input(\"Enter the product quantity: \"))\n",
    "            break  # Exit loop if input is valid\n",
    "        except ValueError:\n",
    "            print(\"Invalid input. Please enter a numeric value for the quantity.\")\n",
    "    \n",
    "    # Return product information in a dictionary\n",
    "    return {\n",
    "        'name': product_name,\n",
    "        'price': product_price,\n",
    "        'quantity': product_quantity\n",
    "    }\n",
    "\n",
    "# Example:\n",
    "product_info = get_product_info()\n",
    "print(product_info)\n"
   ]
  },
  {
   "cell_type": "markdown",
   "metadata": {},
   "source": [
    "### Task 4\n",
    "- Write a function named **'get_even_numbers'** that takes a list of integers and returns a list of even numbers using list comprehension."
   ]
  },
  {
   "cell_type": "code",
   "execution_count": 5,
   "metadata": {},
   "outputs": [
    {
     "name": "stdout",
     "output_type": "stream",
     "text": [
      "[2, 4, 6, 8, 10]\n"
     ]
    }
   ],
   "source": [
    "def get_even_numbers(numbers):\n",
    "    return [num for num in numbers if num % 2 == 0]\n",
    "\n",
    "# Example:\n",
    "numbers = [1, 2, 3, 4, 5, 6, 7, 8, 9, 10]\n",
    "even_numbers = get_even_numbers(numbers)\n",
    "print(even_numbers)\n"
   ]
  },
  {
   "cell_type": "markdown",
   "metadata": {},
   "source": [
    "### Task 5\n",
    "- Write a function named **'pair_elements'** that takes two lists of equal length as parameters and returns a list of tuples, where each tuple contains corresponding elements from the two lists. Use the zip function to achieve this."
   ]
  },
  {
   "cell_type": "markdown",
   "metadata": {},
   "source": []
  },
  {
   "cell_type": "code",
   "execution_count": 4,
   "metadata": {},
   "outputs": [
    {
     "name": "stdout",
     "output_type": "stream",
     "text": [
      "[(1, 'a'), (2, 'b'), (3, 'c')]\n"
     ]
    }
   ],
   "source": [
    "def pair_elements(list1, list2):\n",
    "    return list(zip(list1, list2))\n",
    "\n",
    "# Example:\n",
    "list1 = [1, 2, 3]\n",
    "list2 = ['a', 'b', 'c']\n",
    "\n",
    "paired_list = pair_elements(list1, list2)\n",
    "print(paired_list)\n"
   ]
  },
  {
   "cell_type": "markdown",
   "metadata": {},
   "source": [
    "### Task 6\n",
    "- Write a function named **'square_dict_lambda'** that takes a list of integers and returns a dictionary where the keys are the integers and the values are their squares. Use a lambda function within a dictionary comprehension to achieve this."
   ]
  },
  {
   "cell_type": "code",
   "execution_count": 3,
   "metadata": {},
   "outputs": [
    {
     "name": "stdout",
     "output_type": "stream",
     "text": [
      "{1: 1, 2: 4, 3: 9, 4: 16, 5: 25}\n"
     ]
    }
   ],
   "source": [
    "def square_dict_lambda(numbers):\n",
    "    return {num: (lambda x: x ** 2)(num) for num in numbers}\n",
    "\n",
    "# Example:\n",
    "numbers = [1, 2, 3, 4, 5]\n",
    "squared_dict = square_dict_lambda(numbers)\n",
    "print(squared_dict)\n"
   ]
  }
 ],
 "metadata": {
  "kernelspec": {
   "display_name": "Python 3",
   "language": "python",
   "name": "python3"
  },
  "language_info": {
   "codemirror_mode": {
    "name": "ipython",
    "version": 3
   },
   "file_extension": ".py",
   "mimetype": "text/x-python",
   "name": "python",
   "nbconvert_exporter": "python",
   "pygments_lexer": "ipython3",
   "version": "3.12.0"
  }
 },
 "nbformat": 4,
 "nbformat_minor": 2
}
